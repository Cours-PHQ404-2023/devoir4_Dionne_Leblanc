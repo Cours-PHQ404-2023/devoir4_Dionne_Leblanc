{
 "cells": [
  {
   "attachments": {},
   "cell_type": "markdown",
   "metadata": {},
   "source": [
    "<h1 align=\"center\">Devoir #4</h1>\n",
    "<h4 align=\"center\">Théo Dionne et Jérôme Leblanc</h4>\n",
    "<h5 align=\"center\">14 avril 2023</h5>\n",
    "\n",
    "Plusieurs problèmes en physiques requierent des sommes (ou des intégrales dans un cas de figure continu). Un exemple de telles sommes sont celles utilisées pour calculer les valeurs moyennes d'observables au sein de systèmes physiques. Ce genre de calcul pose cependant une problématique majeure; le nombre de termes dans les sommes en question tend rapidement vers l'infini ce qui demande alors un temps phénoménal (voire infini!) et peut demander une quantité de ressource numérique qui frôle l'absurde. Il existe cependant une solution à ce problème. Au lieu de considérer tous les termes de la somme, on échantillone ces derniers de manière aléatoire. C'est donc ici qu'entre en jeu l'algorithme de *Monte Carlo*. Ce travail pratique vise à utiliser cet algorithme tel que présenté dans les notes *Méthodes numériques et simulations* de D. Sénéchal (mars 2020) afin de calculer les observables du modèle d'Ising tel que l'énergie et l'aimantation.\n",
    "\n",
    "## Modèle d'Ising\n",
    "\n",
    "Le modèle d'Ising est un modèle simplifié représentant une grille de spins également espacés l'un de l'autre dont l'énergie totale est régie par le hamiltonien:\n",
    "\n",
    "$$\n",
    "    \\mathrm{H}[s] = -J\\sum_{\\langle ij \\rangle}s_is_j\n",
    "$$\n",
    "\n",
    "Où $s$ représente une configuration du système et les variables $s_i$ sont associées aux valeurs de spins, qui sont $\\pm 1$. Les observables qui nous intéressent sont l'énergie:\n",
    "\n",
    "$$\n",
    "\\langle E \\rangle = \\frac{1}{Z}\\sum_s \\mathrm H[s]  \\exp\\left(-\\beta \\mathrm H[s]\\right)\n",
    "$$\n",
    "\n",
    "Ainsi que l'aimantation:\n",
    "\n",
    "$$\n",
    "\\langle M \\rangle = \\frac{1}{Z}\\sum_s\\sum_i s_i  \\exp\\left(-\\beta \\mathrm H[s]\\right)\n",
    "$$\n",
    "\n",
    "Où $Z$ est la fonction de partition:\n",
    "\n",
    "$$\n",
    "    Z = \\sum_s  \\exp\\left(-\\beta \\mathrm H[s]\\right)\n",
    "$$\n",
    "\n",
    "## Méthode\n",
    "\n",
    "Pour les simulation, voici un bref récapitulatif de la méthode Monte-Carlo appliquée à notre cas d'étude:\n",
    "\n",
    "1. On initialise aléatoirement une grille de $N\\times N$ spins.\n",
    "2. On effectue 1 000 000 itérations pour réchauffer le système.\n",
    "3. Une mesure les observables (énergie et aimentation) à chaque 1 000 itérations.\n",
    "4. On effectue $2^L$ mesures\n",
    "5. On effectue ces étapes pour un intervalle de températures $T$ espacées de $\\Delta T$.\n",
    "\n",
    "Entre chaque itération, on inverse un spin et on vérifie la différence d'énergie $\\Delta E$ avec la configuration précédente. Si l'énergie est plus basse, on accepte le changement. Sinon, on accepte le changement avec une probabilité $\\exp{-\\Delta E/T}$ (on pose $k_B=1$).\n",
    "\n",
    "### Simulations\n",
    "\n",
    "Les paramètres de la simulation sont listés dans le tableau suivant:\n",
    "\n",
    "| Paramètre  | Valeur |\n",
    "|------------|-------:|\n",
    "| N          |     32 |\n",
    "| $T$        |  [1,4] |\n",
    "| $\\Delta T$ |    0.1 |\n",
    "| L          |     16 |\n",
    "\n",
    "**Note:** Dans la simulation, on part d'une haute température pour ensuite descendre à basse température. On procède de cette manière puisque, théoriquement, la grille aléatoire de spins est plus près d'un état à haute température qu'à basse température. D'ailleurs, en réutilisant la grille de spin du dernier essai en la réchauffant jusqu'à la nouvelle température, on arrive à refroidir le système de proche au lieu de toujours partir d'une température aléatoire ce qui assure une meilleure thermalisation. Ceci est surtout utile lorsqu'on se trouve dans la phase magnétique du système (haut degré d'ordre).\n",
    "\n",
    "Les résultats de la simulation sont stockés dans `./exemple_data_MC_ising.csv`. Ces derniers sont utilisés pour les graphiques qui suivent."
   ]
  },
  {
   "cell_type": "code",
   "execution_count": null,
   "metadata": {},
   "outputs": [],
   "source": [
    "# Librairies utilisées\n",
    "import numpy as np\n",
    "import matplotlib.pyplot as plt\n",
    "\n",
    "# Formatage des graphiques\n",
    "plt.style.use(\"graphiques.mplstyle\")\n",
    "\n",
    "# Nombre de sites\n",
    "NBR_SITES = 1024 # 32*32 sites"
   ]
  },
  {
   "cell_type": "code",
   "execution_count": null,
   "metadata": {},
   "outputs": [],
   "source": [
    "# Récupérer les informations du fichier de données.\n",
    "monte_carlo_data = np.genfromtxt(\"exemple_data_MC_ising.csv\",delimiter=\",\",skip_header=True)\n",
    "\n",
    "temperature = monte_carlo_data[:,0] # Températures\n",
    "\n",
    "moy_aimantation = monte_carlo_data[:,1] # Moyenne de l'aimantation\n",
    "dmoy_aimantation = monte_carlo_data[:,2] # erreur\n",
    "\n",
    "t_corr_aimantation = monte_carlo_data[:,3] # Temps de corrélation aimantation\n",
    "\n",
    "moy_energie = monte_carlo_data[:,4] # Moyenne de l'énergie\n",
    "dmoy_energie = monte_carlo_data[:,5] # erreur\n",
    "\n",
    "t_corr_energie = monte_carlo_data[:,6] # Temps de corrélation énergie\n",
    "\n",
    "Tc = 2.2691853142130221 # température critique"
   ]
  },
  {
   "attachments": {},
   "cell_type": "markdown",
   "metadata": {},
   "source": [
    "On utilise la température critique (issue de la solution analytique) $T_\\text{c}\\approx 2.27$ telle qu'indiquée dans le notes du professeur David Sénéchal pour un réseau en deux dimensions. Cette valeur de la température sera utilisée plus loins afin de discuter des résultats."
   ]
  },
  {
   "attachments": {},
   "cell_type": "markdown",
   "metadata": {},
   "source": [
    "## Résultats et analyse\n",
    "\n",
    "### Valeurs moyennes"
   ]
  },
  {
   "cell_type": "code",
   "execution_count": null,
   "metadata": {},
   "outputs": [],
   "source": [
    "fig = plt.figure()\n",
    "\n",
    "plt.errorbar(temperature, moy_energie/NBR_SITES, yerr=dmoy_energie/NBR_SITES, label=\"Énergie\")\n",
    "plt.errorbar(temperature, moy_aimantation/NBR_SITES, yerr=dmoy_aimantation/NBR_SITES, label=\"Aimantation\")\n",
    "\n",
    "plt.xlabel(\"Température\")\n",
    "plt.ylabel(\"Valeur Moyenne\")\n",
    "\n",
    "plt.title(\"Valeur moyenne des observables selon la température\")\n",
    "\n",
    "plt.axvline(Tc, c='g', ms=0, ls='-', label=\"$T_c$\", lw=.3)\n",
    "\n",
    "plt.legend()\n",
    "\n",
    "plt.show()"
   ]
  },
  {
   "attachments": {},
   "cell_type": "markdown",
   "metadata": {},
   "source": [
    "Dans la figure ci-haute, on observe les valeurs moyennes de l'aimantation et de l'énergie du système pour plusieurs valeurs de la température. On remarque qu'une discontinuité flagrante saute au yeux pour l'aimantation. En effet, autour de la température critique, l'aimantation semble s'inverser pour ensuite revenir à la valeur attendue (Si on inverse son signe en ce point, la courbe serait continue). Cette erreur peut être attribuée à une erreur statistique vu la nature probabiliste de la méthode. Ce problème surgit au plus que pour 1 (ou 2) points par simulation, ce qui n'est pas toujours le cas. En effet, même en effectuant des simulations sur un plus petit domaine et avec moins de \"binning\", il est difficile de reproduire la discontinuité. On assume alors qu'il s'agit d'un problème intrinsèque avec la méthode et non avec l'implémentation. On approfondie cette hypothèse plus loin à l'aide du temps de corrélation.\n",
    "\n",
    "Pour ce qui est de l'énergie, on a bel et bien que l'énergie est plus haute à haute température et diminue progressivement plus le température descend. On remarque que la pente s'adoucis plus on se rapproche de $T=1$ se qui sous-entend que l'on approche le niveau d'énergie le plus bas à $T\\to 0$."
   ]
  },
  {
   "cell_type": "code",
   "execution_count": null,
   "metadata": {},
   "outputs": [],
   "source": [
    "# Récupérer les informations du fichier de données.\n",
    "monte_carlo_data_verification = np.genfromtxt(\"data_monte_carlo_ising_test.csv\",delimiter=\",\",skip_header=True)\n",
    "\n",
    "temperature_verification = monte_carlo_data_verification[:,0] # Températures\n",
    "\n",
    "moy_aimantation_verification = monte_carlo_data_verification[:,1] # Moyenne de l'aimantation\n",
    "\n",
    "plt.figure()\n",
    "plt.plot(temperature_verification, moy_aimantation_verification/NBR_SITES, label=\"Aimantation\")\n",
    "plt.axvline(Tc, c='g', ms=0, ls='-', label=\"$T_c$\", lw=.3)\n",
    "plt.xlabel(\"Température\")\n",
    "plt.ylabel(\"$\\langle M\\\\rangle$\")\n",
    "\n",
    "plt.title(\"Valeur moyenne de l'aimantation selon la température\")\n",
    "\n",
    "plt.show()"
   ]
  },
  {
   "attachments": {},
   "cell_type": "markdown",
   "metadata": {},
   "source": [
    "Ci-haut un graphique de vérification pour la valeur moyenne de l'aimantation. Les fluctuations sont dûes au niveaux de \"binning\" plus bas que pour le premier graphique. Malgré ce bruit, on a quand même le comportement attentu."
   ]
  },
  {
   "attachments": {},
   "cell_type": "markdown",
   "metadata": {},
   "source": [
    "### Temps de corrélation"
   ]
  },
  {
   "cell_type": "code",
   "execution_count": null,
   "metadata": {},
   "outputs": [],
   "source": [
    "fig = plt.figure()\n",
    "\n",
    "plt.plot(temperature, t_corr_energie/NBR_SITES, label=\"Énergie\")\n",
    "plt.plot(temperature, t_corr_aimantation/NBR_SITES, label=\"Aimantation\")\n",
    "\n",
    "plt.xlabel(\"Température\")\n",
    "plt.ylabel(\"Temps de corrélation\")\n",
    "\n",
    "plt.axvline(Tc, c='g', ms=0, ls='-', label=\"$T_c$\", lw=.3)\n",
    "\n",
    "plt.title(\"Temps de corrélation de observables selon la température\")\n",
    "\n",
    "plt.legend()\n",
    "\n",
    "plt.show()"
   ]
  },
  {
   "attachments": {},
   "cell_type": "markdown",
   "metadata": {},
   "source": [
    "On remarque que les deux temps de corrélations restent faibles pour la plupart des températures sauf autour de la température critique $T_c$ comme attendu. Le temps associé à l'énergie ne semble pas diverger beaucoup. Ceci peut expliquer le fait que l'énergie dans le premier graphique ait une transition continue et plus douce lorsque la température passe par $T_c$. Cette observation est en contraste avec le temps de corrélation de l'aimantation. Malgré le fait que ce dernier ne soit pas plus grand que $2^L$ (avec L = 16), le nombre de mesures, on doit quand même le prendre avec un grain de sel. En effet, il se peut que ce dernier atteingne une valeur beaucoup plus grande, mais qu'on ne les voit pas sur le graphique faute d'un intervalle d'échantillonage. Ceci viendrait expliquer la dérivée plus abrute de l'aimantation dans le premier graphique autour de la température critique."
   ]
  },
  {
   "attachments": {},
   "cell_type": "markdown",
   "metadata": {},
   "source": [
    "## Conclusion\n",
    "\n",
    "Pour clore, on rappelle que l'objectif du travail était de simuler un système régit par le hamiltonien modèle d'Ising. Ces simulations ont été accomplies pour une grille de spin de taille 32$\\times$32, ce qui est de grandeur non-négligeable. Les informations tirées des calculs sont l'aimantation moyenne ainsi que l'énergie moyenne et ce pour différentes températures. En comparant avec les notes de référence et l'énoncé, on conclut que ces courbes ont l'allure attendue à haute et basse température, à l'exception d'un point abérant pour l'aimantation que l'on attribut à une erreur statistique. Les temps de corrélations liés à ces mesures ont aussi été calculés à des fins de validation."
   ]
  }
 ],
 "metadata": {
  "kernelspec": {
   "display_name": "dev4-phq404-td-jl-3EzgRbam-py3.8",
   "language": "python",
   "name": "python3"
  },
  "language_info": {
   "codemirror_mode": {
    "name": "ipython",
    "version": 3
   },
   "file_extension": ".py",
   "mimetype": "text/x-python",
   "name": "python",
   "nbconvert_exporter": "python",
   "pygments_lexer": "ipython3",
   "version": "3.8.10"
  },
  "orig_nbformat": 4,
  "vscode": {
   "interpreter": {
    "hash": "36c38e53c6e340beb7cbe0bd4ee1946975ea11daeac6c35c00884cc4a3229e58"
   }
  }
 },
 "nbformat": 4,
 "nbformat_minor": 2
}
